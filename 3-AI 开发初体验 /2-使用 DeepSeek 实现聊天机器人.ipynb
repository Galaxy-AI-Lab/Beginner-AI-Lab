{
 "cells": [
  {
   "cell_type": "markdown",
   "metadata": {},
   "source": [
    "# 使用 DeepSeek 实现聊天机器人\n",
    "\n",
    "本节内容教大家使用 Python 调用 [DeepSeek](https://www.deepseek.com/) 的 API，实现一个简单的聊天机器人。本节代码直接在 Jupyter Notebook 中运行即可。\n",
    "\n",
    "## 什么是 DeepSeek\n",
    "\n",
    "DeepSeek 是一家中国的人工智能公司，专注于开发大型语言模型（LLM）。他们推出了一系列开源的 AI 模型，其中最著名的包括：\n",
    "\n",
    "1. DeepSeek LLM：一个强大的基础语言模型\n",
    "2. DeepSeek Coder：专门用于代码生成和理解的模型\n",
    "\n",
    "## DeepSeek 的主要特点\n",
    "\n",
    "1. **开源性**\n",
    "   - 模型代码开源\n",
    "   - 支持社区贡献和改进\n",
    "   - 提供免费的 API 调用额度\n",
    "\n",
    "2. **多语言支持**\n",
    "   - 支持中英文等多种语言\n",
    "   - 对中文有着优秀的理解能力\n",
    "\n",
    "3. **专业能力**\n",
    "   - 代码生成能力强\n",
    "   - 上下文理解准确\n",
    "   - 支持多轮对话\n",
    "\n",
    "## 主要应用场景\n",
    "\n",
    "- 代码开发辅助\n",
    "- 文本生成和翻译\n",
    "- 知识问答\n",
    "- 对话系统开发\n",
    "- 数据分析\n",
    "\n",
    "## DeepSeek 的优势\n",
    "\n",
    "1. **性能强大**\n",
    "   - 在多个基准测试中表现优秀\n",
    "   - 代码生成质量高\n",
    "\n",
    "2. **本地化优势**\n",
    "   - 对中文的理解和生成能力出色\n",
    "   - 符合中国用户使用习惯\n",
    "\n",
    "3. **开放生态**\n",
    "   - 支持二次开发\n",
    "   - 社区活跃度高"
   ]
  },
  {
   "cell_type": "markdown",
   "metadata": {},
   "source": [
    "## 如何使用 DeepSeek\n",
    "\n",
    "DeepSeek API 使用与 OpenAI 兼容的 API 格式，因此我们可以使用 OpenAI 的 Python SDK 来调用 DeepSeek API。首先，我们需要使用以下命令来安装 OpenAI 的 Python SDK："
   ]
  },
  {
   "cell_type": "code",
   "execution_count": null,
   "metadata": {
    "vscode": {
     "languageId": "plaintext"
    }
   },
   "outputs": [],
   "source": [
    "pip3 install openai"
   ]
  },
  {
   "cell_type": "markdown",
   "metadata": {},
   "source": [
    "安装好了之后，我们就可以使用以下代码来调用 DeepSeek API，需要两个参数：\n",
    "\n",
    "- `base_url`：DeepSeek API 的 URL，默认为 `https://api.deepseek.com`，页可以将 `base_url` 设置为 https://api.deepseek.com/v1 来使用。\n",
    "- `api_key`：DeepSeek API 的密钥，可以在 DeepSeek 的网站上注册并获取。"
   ]
  },
  {
   "cell_type": "code",
   "execution_count": null,
   "metadata": {
    "vscode": {
     "languageId": "plaintext"
    }
   },
   "outputs": [],
   "source": [
    "from openai import OpenAI\n",
    "\n",
    "client = OpenAI(\n",
    "    base_url=\"https://api.deepseek.com\",\n",
    "    api_key=\"<DeepSeek API Key>\",\n",
    ")"
   ]
  },
  {
   "cell_type": "markdown",
   "metadata": {},
   "source": [
    "定义一个名为 `user_input` 的变量，用于将用户的输入作为参数传递给模型，得到模型的回答。"
   ]
  },
  {
   "cell_type": "code",
   "execution_count": null,
   "metadata": {
    "vscode": {
     "languageId": "plaintext"
    }
   },
   "outputs": [],
   "source": [
    "user_input = input(\"请输入你的问题：\")"
   ]
  },
  {
   "cell_type": "markdown",
   "metadata": {},
   "source": [
    "创建一个名为 `completion` 的变量，用于存储模型的回答。我们使用 `client.chat.completions.create` 方法来调用 DeepSeek API，通过这个方法可以获得 AI 模型的回复。我们需要配置以下两个参数的值：\n",
    "- `model` 参数用于配置模型，代码中选择的是 `deepseek-chat` 模型。\n",
    "- `messages` 参数是一个列表，用于配置对话的上下文。每个元素是一个字典，包含 `role` 和 `content` 两个键，分别表示消息的角色和内容。在下面代码中，我们将用户的输入作为 `user` 角色的消息，将模型的回答作为 `assistant` 角色的消息。"
   ]
  },
  {
   "cell_type": "code",
   "execution_count": null,
   "metadata": {
    "vscode": {
     "languageId": "plaintext"
    }
   },
   "outputs": [],
   "source": [
    "completion = client.chat.completions.create(\n",
    "    model=\"deepseek-chat\",\n",
    "    messages= [\n",
    "        {\n",
    "            \"role\": \"user\",\n",
    "            \"content\": user_input\n",
    "        }\n",
    "    ]\n",
    ")\n",
    "print(completion.choices[0].message.content)"
   ]
  },
  {
   "cell_type": "markdown",
   "metadata": {},
   "source": [
    "## 为 AI 添加角色\n",
    "\n",
    "在 DeepSeek 中，我们可以为 AI 添加角色，让 AI 模型以特定的角色来回答问题。例如，我们可以让 AI 模型以一个心理医生的角色来回答用户的问题。"
   ]
  },
  {
   "cell_type": "code",
   "execution_count": null,
   "metadata": {
    "vscode": {
     "languageId": "plaintext"
    }
   },
   "outputs": [],
   "source": [
    "user_input = input(\"请输入你的心理问题：\")\n",
    "\n",
    "completion1 = client.chat.completions.create(\n",
    "    model=\"deepseek-chat\",\n",
    "    messages= [\n",
    "        {\n",
    "            \"role\": \"system\",\n",
    "            \"content\": '''你是一个拥有 10 年经验的心理医生，大家都称呼你为李医生\n",
    "            请根据用户输入的问题，给出专业的心理建议，保持内容的口语化\n",
    "            '''\n",
    "        },\n",
    "        {\n",
    "            \"role\": \"user\",\n",
    "            \"content\": user_input\n",
    "        }\n",
    "    ]\n",
    ")\n",
    "\n",
    "print(completion1.choices[0].message.content)"
   ]
  },
  {
   "cell_type": "markdown",
   "metadata": {},
   "source": [
    "在上面代码中 `role=\"system\"` 表示这是系统设定，用于定义 AI 的角色和行为，这里设定了 AI 扮演一个经验丰富的心理医生；`role=\"user\"` 表示这是用户输入，用于定义用户的输入内容。\n",
    "\n",
    "到此我们已经成功创建了一个带有角色设定的聊天机器人了。"
   ]
  }
 ],
 "metadata": {
  "language_info": {
   "name": "python"
  }
 },
 "nbformat": 4,
 "nbformat_minor": 2
}
